{
 "cells": [
  {
   "cell_type": "markdown",
   "metadata": {},
   "source": [
    "# EE333 - Lab 7"
   ]
  },
  {
   "cell_type": "markdown",
   "metadata": {},
   "source": [
    "#### Importing Libraries"
   ]
  },
  {
   "cell_type": "code",
   "execution_count": 1,
   "metadata": {},
   "outputs": [],
   "source": [
    "import numpy as np\n",
    "from scipy.linalg import null_space\n",
    "import matplotlib.pyplot as plt"
   ]
  },
  {
   "cell_type": "markdown",
   "metadata": {},
   "source": [
    "## Q1. Generate a real valued random fat matrix A of order (16×64), and a random vector b ∈ R16, use to method of least squares to solve for x if Ax = b."
   ]
  },
  {
   "cell_type": "code",
   "execution_count": 2,
   "metadata": {},
   "outputs": [],
   "source": [
    "A = np.random.randint(-100, 100, (16,64))\n",
    "b = np.random.randint(-100, 100, (16,1))"
   ]
  },
  {
   "cell_type": "code",
   "execution_count": 3,
   "metadata": {},
   "outputs": [],
   "source": [
    "def lstsq(A, b):\n",
    "#     return ((np.linalg.inv((A.T.dot(A)))).dot(A.T)).dot(b)\n",
    "    return (np.linalg.pinv(A)).dot(b)"
   ]
  },
  {
   "cell_type": "code",
   "execution_count": 4,
   "metadata": {},
   "outputs": [
    {
     "data": {
      "text/plain": [
       "array([[-0.10069924],\n",
       "       [-0.0786966 ],\n",
       "       [ 0.00877391],\n",
       "       [ 0.10790735],\n",
       "       [-0.07887201],\n",
       "       [ 0.05094322],\n",
       "       [-0.11680034],\n",
       "       [ 0.04839814],\n",
       "       [-0.013759  ],\n",
       "       [ 0.08278285],\n",
       "       [-0.20123177],\n",
       "       [ 0.01376611],\n",
       "       [ 0.06488676],\n",
       "       [-0.07988768],\n",
       "       [-0.09955084],\n",
       "       [ 0.11853607],\n",
       "       [-0.0330163 ],\n",
       "       [-0.04642724],\n",
       "       [-0.00111646],\n",
       "       [ 0.00498479],\n",
       "       [-0.08254294],\n",
       "       [ 0.04139374],\n",
       "       [-0.03388528],\n",
       "       [-0.13074118],\n",
       "       [ 0.04002906],\n",
       "       [ 0.0037141 ],\n",
       "       [-0.03306201],\n",
       "       [ 0.02623061],\n",
       "       [ 0.0479991 ],\n",
       "       [-0.06079955],\n",
       "       [ 0.00074043],\n",
       "       [-0.03758906],\n",
       "       [-0.05122024],\n",
       "       [ 0.13556317],\n",
       "       [ 0.01837257],\n",
       "       [-0.0487731 ],\n",
       "       [ 0.02512704],\n",
       "       [-0.03484628],\n",
       "       [ 0.03951385],\n",
       "       [ 0.02211198],\n",
       "       [ 0.07367149],\n",
       "       [ 0.010315  ],\n",
       "       [-0.03828631],\n",
       "       [ 0.03612234],\n",
       "       [-0.06640383],\n",
       "       [ 0.11610332],\n",
       "       [ 0.02947032],\n",
       "       [-0.05739103],\n",
       "       [-0.04709361],\n",
       "       [-0.10820086],\n",
       "       [-0.00864035],\n",
       "       [-0.05589456],\n",
       "       [ 0.05041078],\n",
       "       [-0.06577471],\n",
       "       [ 0.06621093],\n",
       "       [-0.00905037],\n",
       "       [-0.00953075],\n",
       "       [ 0.0084922 ],\n",
       "       [-0.13700322],\n",
       "       [ 0.06341095],\n",
       "       [-0.07295117],\n",
       "       [ 0.14159114],\n",
       "       [ 0.03786728],\n",
       "       [ 0.06741893]])"
      ]
     },
     "execution_count": 4,
     "metadata": {},
     "output_type": "execute_result"
    }
   ],
   "source": [
    "x = lstsq(A, b)\n",
    "x"
   ]
  },
  {
   "cell_type": "markdown",
   "metadata": {},
   "source": [
    "## Q2. Generate an arbitrary vector z ∈ R64 such that no more than 6 of its entries are nonzero. Use this vector to generate the vector d = Az. Now solve for x in Ax = d. Is x = z?"
   ]
  },
  {
   "cell_type": "code",
   "execution_count": 5,
   "metadata": {},
   "outputs": [
    {
     "data": {
      "text/plain": [
       "array([[  0.],\n",
       "       [  0.],\n",
       "       [-55.],\n",
       "       [  0.],\n",
       "       [  0.],\n",
       "       [  0.],\n",
       "       [  0.],\n",
       "       [  0.],\n",
       "       [  0.],\n",
       "       [  0.],\n",
       "       [  0.],\n",
       "       [  0.],\n",
       "       [  0.],\n",
       "       [  0.],\n",
       "       [  0.],\n",
       "       [  0.],\n",
       "       [  0.],\n",
       "       [-74.],\n",
       "       [  0.],\n",
       "       [  0.],\n",
       "       [  0.],\n",
       "       [  0.],\n",
       "       [  0.],\n",
       "       [  0.],\n",
       "       [-84.],\n",
       "       [  0.],\n",
       "       [  0.],\n",
       "       [  0.],\n",
       "       [  0.],\n",
       "       [ 17.],\n",
       "       [  0.],\n",
       "       [  0.],\n",
       "       [  0.],\n",
       "       [  0.],\n",
       "       [  0.],\n",
       "       [  0.],\n",
       "       [  0.],\n",
       "       [  0.],\n",
       "       [  0.],\n",
       "       [  0.],\n",
       "       [  0.],\n",
       "       [  0.],\n",
       "       [  0.],\n",
       "       [  0.],\n",
       "       [  0.],\n",
       "       [  0.],\n",
       "       [  0.],\n",
       "       [  0.],\n",
       "       [  0.],\n",
       "       [  0.],\n",
       "       [  0.],\n",
       "       [  0.],\n",
       "       [  0.],\n",
       "       [  0.],\n",
       "       [  0.],\n",
       "       [  0.],\n",
       "       [ 99.],\n",
       "       [  0.],\n",
       "       [ -2.],\n",
       "       [  0.],\n",
       "       [  0.],\n",
       "       [  0.],\n",
       "       [  0.],\n",
       "       [  0.]])"
      ]
     },
     "execution_count": 5,
     "metadata": {},
     "output_type": "execute_result"
    }
   ],
   "source": [
    "z = np.zeros((64,1))\n",
    "ind = np.random.randint(0,64,6)\n",
    "for i in ind:\n",
    "    z[i] = np.random.randint(-100,100)\n",
    "z"
   ]
  },
  {
   "cell_type": "code",
   "execution_count": 6,
   "metadata": {},
   "outputs": [
    {
     "data": {
      "text/plain": [
       "array([[ -3.06876871],\n",
       "       [ -1.64017108],\n",
       "       [-10.75996157],\n",
       "       [ 18.09560334],\n",
       "       [ -1.45500953],\n",
       "       [  4.65708507],\n",
       "       [  4.75756746],\n",
       "       [ 11.74797757],\n",
       "       [-11.47681501],\n",
       "       [  2.04927463],\n",
       "       [ -0.61089086],\n",
       "       [ -0.23152957],\n",
       "       [-13.10858827],\n",
       "       [-12.0282024 ],\n",
       "       [ 13.85406077],\n",
       "       [-11.13672623],\n",
       "       [  5.59438268],\n",
       "       [-29.49472947],\n",
       "       [-16.43979   ],\n",
       "       [ -5.20067478],\n",
       "       [  8.5695902 ],\n",
       "       [  4.94339683],\n",
       "       [  7.68190082],\n",
       "       [-14.78670626],\n",
       "       [-15.76193017],\n",
       "       [  7.26013848],\n",
       "       [  8.14363216],\n",
       "       [  5.61298287],\n",
       "       [-10.66794909],\n",
       "       [ 13.86570821],\n",
       "       [ 16.95186701],\n",
       "       [-12.6845995 ],\n",
       "       [ 10.05532255],\n",
       "       [-12.55479569],\n",
       "       [  6.25291646],\n",
       "       [ -3.07270594],\n",
       "       [-16.58888831],\n",
       "       [ -1.17176535],\n",
       "       [  2.94037952],\n",
       "       [  6.44265557],\n",
       "       [  1.9667206 ],\n",
       "       [  0.63661957],\n",
       "       [  3.98517967],\n",
       "       [  1.24019889],\n",
       "       [ -2.98817167],\n",
       "       [  2.95145816],\n",
       "       [ 10.27069225],\n",
       "       [  2.35488133],\n",
       "       [  1.24489446],\n",
       "       [-13.53644484],\n",
       "       [-20.12422869],\n",
       "       [ -0.38699524],\n",
       "       [  0.59696665],\n",
       "       [ 10.9970356 ],\n",
       "       [ -9.36049481],\n",
       "       [ -5.48722637],\n",
       "       [ 26.68410887],\n",
       "       [ 12.082001  ],\n",
       "       [  9.54273391],\n",
       "       [ -7.56935051],\n",
       "       [ 11.15373164],\n",
       "       [  5.09987278],\n",
       "       [  2.12076747],\n",
       "       [ -6.79659374]])"
      ]
     },
     "execution_count": 6,
     "metadata": {},
     "output_type": "execute_result"
    }
   ],
   "source": [
    "d = A.dot(z)\n",
    "xt = lstsq(A, d)\n",
    "xt"
   ]
  },
  {
   "cell_type": "code",
   "execution_count": 7,
   "metadata": {},
   "outputs": [
    {
     "data": {
      "text/plain": [
       "False"
      ]
     },
     "execution_count": 7,
     "metadata": {},
     "output_type": "execute_result"
    }
   ],
   "source": [
    "all(xt == z)"
   ]
  },
  {
   "cell_type": "markdown",
   "metadata": {},
   "source": [
    "## Q3. Find the basis of the nullspace of A, and for any vector c ∈ Null(A), define y = x + c, and obtain the vector b' = Ay for multiple values of c. If Ay satisfies Ax = b, ∀c ∈ Null(A), then what is special about the case when c = 0."
   ]
  },
  {
   "cell_type": "code",
   "execution_count": 8,
   "metadata": {},
   "outputs": [],
   "source": [
    "nullA = null_space(A)"
   ]
  },
  {
   "cell_type": "code",
   "execution_count": 9,
   "metadata": {},
   "outputs": [
    {
     "data": {
      "text/plain": [
       "True"
      ]
     },
     "execution_count": 9,
     "metadata": {},
     "output_type": "execute_result"
    }
   ],
   "source": [
    "areEqual = np.zeros(nullA.shape[1])\n",
    "for i,c in enumerate(nullA.T):\n",
    "    y = x + c\n",
    "    b_prime = A.dot(y)\n",
    "    areEqual[i] = b_prime.all() == b.all()\n",
    "\n",
    "areEqual.all()"
   ]
  },
  {
   "cell_type": "markdown",
   "metadata": {},
   "source": [
    "## Q4. Look up the Orthogonal matching persuit (OMP) algorithm, and use that to recover x."
   ]
  },
  {
   "cell_type": "code",
   "execution_count": 10,
   "metadata": {},
   "outputs": [],
   "source": [
    "maxit = A.shape[1]\n",
    "epsilon = 1e-3"
   ]
  },
  {
   "cell_type": "code",
   "execution_count": 11,
   "metadata": {},
   "outputs": [],
   "source": [
    "def OMP(A, b, maxit, epsilon):\n",
    "#     A_hat = A\n",
    "#     b_hat = b\n",
    "    A_hat = A / np.linalg.norm(A, 2, axis=0)\n",
    "    b_hat = b / np.linalg.norm(b, 2)\n",
    "    x = np.zeros(A.shape[1])\n",
    "    residual = b_hat\n",
    "    indices = []\n",
    "    augmentedA = []\n",
    "    for k in range(maxit):\n",
    "        x = np.zeros(A.shape[1])\n",
    "        indk = np.argmax(np.abs(A_hat.T.dot(residual)))\n",
    "        indices.append(indk)\n",
    "        augmentedA.append(A_hat[:,indices[k]])\n",
    "        Ak = np.array(augmentedA).T\n",
    "        xk = lstsq(Ak, b_hat)\n",
    "        residualnew = b - Ak.dot(xk)\n",
    "        for i in range(k):\n",
    "            x[indices[i]] = xk[i]\n",
    "        if np.linalg.norm((residualnew-residual), 2) < epsilon:\n",
    "            break\n",
    "    return x"
   ]
  },
  {
   "cell_type": "code",
   "execution_count": 12,
   "metadata": {},
   "outputs": [
    {
     "data": {
      "text/plain": [
       "array([0.       , 0.       , 0.       , 0.       , 0.       , 0.       ,\n",
       "       0.       , 0.       , 0.       , 0.       , 0.       , 0.       ,\n",
       "       0.       , 0.       , 0.       , 0.       , 0.       , 0.       ,\n",
       "       0.       , 0.       , 0.       , 0.       , 0.       , 0.       ,\n",
       "       0.       , 0.       , 0.       , 0.       , 0.       , 0.       ,\n",
       "       0.       , 0.       , 0.       , 0.       , 0.       , 0.       ,\n",
       "       0.       , 0.       , 0.       , 0.       , 0.       , 0.       ,\n",
       "       0.       , 0.       , 0.       , 0.       , 0.       , 0.       ,\n",
       "       0.       , 0.       , 0.       , 0.       , 0.       , 0.       ,\n",
       "       0.       , 0.       , 0.       , 0.       , 0.       , 0.       ,\n",
       "       0.       , 0.0092992, 0.       , 0.       ])"
      ]
     },
     "execution_count": 12,
     "metadata": {},
     "output_type": "execute_result"
    }
   ],
   "source": [
    "x_recovered = OMP(A, b, maxit, epsilon)\n",
    "x_recovered"
   ]
  }
 ],
 "metadata": {
  "kernelspec": {
   "display_name": "Python 3",
   "language": "python",
   "name": "python3"
  },
  "language_info": {
   "codemirror_mode": {
    "name": "ipython",
    "version": 3
   },
   "file_extension": ".py",
   "mimetype": "text/x-python",
   "name": "python",
   "nbconvert_exporter": "python",
   "pygments_lexer": "ipython3",
   "version": "3.8.5"
  }
 },
 "nbformat": 4,
 "nbformat_minor": 4
}
