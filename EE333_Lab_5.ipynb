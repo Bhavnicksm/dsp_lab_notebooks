{
  "nbformat": 4,
  "nbformat_minor": 0,
  "metadata": {
    "colab": {
      "name": "EE333_Lab_5.ipynb",
      "provenance": [],
      "collapsed_sections": [],
      "authorship_tag": "ABX9TyPO/Cn/EiU2qMxJWfLLDoXt",
      "include_colab_link": true
    },
    "kernelspec": {
      "name": "python3",
      "display_name": "Python 3"
    }
  },
  "cells": [
    {
      "cell_type": "markdown",
      "metadata": {
        "id": "view-in-github",
        "colab_type": "text"
      },
      "source": [
        "<a href=\"https://colab.research.google.com/github/Bhavnicksm/dsp_lab_notebooks/blob/main/EE333_Lab_5.ipynb\" target=\"_parent\"><img src=\"https://colab.research.google.com/assets/colab-badge.svg\" alt=\"Open In Colab\"/></a>"
      ]
    },
    {
      "cell_type": "markdown",
      "metadata": {
        "id": "DHTmk3HL-gaa"
      },
      "source": [
        "# Question 1\n",
        "\n",
        "Generate a random matrix that has more columns than rows (fat-matrix) and Gram Schmidt\n",
        "orthogonalization on it, to generate an orthonormal matrix, and a representation of the original\n",
        "matrix with the newly generated orthonormal matrix as a basis."
      ]
    },
    {
      "cell_type": "code",
      "metadata": {
        "id": "bD0-AN1BbfG_"
      },
      "source": [
        "import numpy as np\n",
        "import matplotlib.pyplot as plt"
      ],
      "execution_count": 208,
      "outputs": []
    },
    {
      "cell_type": "code",
      "metadata": {
        "colab": {
          "base_uri": "https://localhost:8080/"
        },
        "id": "nGE8P8OLecIG",
        "outputId": "22d4c96c-f0df-4e8c-bd67-7a1eabcb8a70"
      },
      "source": [
        "A = np.random.rand(5,10)\n",
        "print(A)"
      ],
      "execution_count": 209,
      "outputs": [
        {
          "output_type": "stream",
          "text": [
            "[[0.23496982 0.2972605  0.1349324  0.26667257 0.72070522 0.54275952\n",
            "  0.52450101 0.37173452 0.29874791 0.79010705]\n",
            " [0.68923299 0.88606005 0.09317136 0.26949181 0.34664581 0.87400071\n",
            "  0.3249261  0.5463962  0.17095048 0.28478361]\n",
            " [0.92776395 0.32164833 0.13993357 0.37187898 0.1976851  0.12320475\n",
            "  0.23524573 0.27005379 0.43481539 0.33380322]\n",
            " [0.55750499 0.39483471 0.55608959 0.77222381 0.20072248 0.46926507\n",
            "  0.87472995 0.06682708 0.34081243 0.44003127]\n",
            " [0.2581792  0.71115743 0.73928699 0.22816216 0.19294659 0.73652198\n",
            "  0.32803018 0.37058744 0.16998199 0.23058921]]\n"
          ],
          "name": "stdout"
        }
      ]
    },
    {
      "cell_type": "code",
      "metadata": {
        "id": "9e6ZVok2erlj"
      },
      "source": [
        "def normalize(u):\n",
        "  return u/(np.linalg.norm(u))\n",
        "\n",
        "def project(u,v):\n",
        "  '''\n",
        "    Both u and v are assumed to be column vectors\n",
        "  '''\n",
        "  projection = (np.dot(u.T,v)/np.dot(u.T,u))*u\n",
        "  return projection\n",
        "  "
      ],
      "execution_count": 210,
      "outputs": []
    },
    {
      "cell_type": "code",
      "metadata": {
        "id": "XQUWe9lvhA0v"
      },
      "source": [
        "def gram_shmidt(A: np.ndarray):\n",
        "  E = []\n",
        "  U = []\n",
        "  for i in range(A.shape[0]):\n",
        "    v = A[i,:]\n",
        "    w = v - np.sum(np.asarray([project(u , v) for u in U]),axis=0)\n",
        "    U.append(w)\n",
        "    E.append(normalize(w))\n",
        "\n",
        "  U = np.asarray(U)\n",
        "  E = np.asarray(E)\n",
        "\n",
        "  return E"
      ],
      "execution_count": 211,
      "outputs": []
    },
    {
      "cell_type": "code",
      "metadata": {
        "colab": {
          "base_uri": "https://localhost:8080/"
        },
        "id": "GMiGQhRNdf0E",
        "outputId": "7849551d-0974-412c-c93c-90a21c0f2d05"
      },
      "source": [
        "basis = gram_shmidt(A)\n",
        "basis.shape"
      ],
      "execution_count": 212,
      "outputs": [
        {
          "output_type": "execute_result",
          "data": {
            "text/plain": [
              "(5, 10)"
            ]
          },
          "metadata": {
            "tags": []
          },
          "execution_count": 212
        }
      ]
    },
    {
      "cell_type": "code",
      "metadata": {
        "colab": {
          "base_uri": "https://localhost:8080/"
        },
        "id": "xljPtclnht0T",
        "outputId": "9aeeda9f-130a-4632-dce1-8cad2f44c372"
      },
      "source": [
        "repr = A @ basis.T\n",
        "repr"
      ],
      "execution_count": 213,
      "outputs": [
        {
          "output_type": "execute_result",
          "data": {
            "text/plain": [
              "array([[ 1.47434963e+00,  2.48067497e-16,  3.15037333e-16,\n",
              "         1.70824979e-16,  1.80829431e-16],\n",
              "       [ 1.27757904e+00,  1.05248999e+00,  2.86324931e-16,\n",
              "        -2.50879050e-16,  2.65210300e-17],\n",
              "       [ 8.53542452e-01,  4.91053254e-01,  7.97137621e-01,\n",
              "        -4.21619377e-16,  9.09350642e-18],\n",
              "       [ 1.26280651e+00,  3.46523565e-01,  4.73686263e-01,\n",
              "         8.79222480e-01,  2.96978669e-16],\n",
              "       [ 1.02706835e+00,  7.03745943e-01, -1.36284260e-01,\n",
              "         4.44921526e-01,  5.57714476e-01]])"
            ]
          },
          "metadata": {
            "tags": []
          },
          "execution_count": 213
        }
      ]
    },
    {
      "cell_type": "code",
      "metadata": {
        "colab": {
          "base_uri": "https://localhost:8080/"
        },
        "id": "jMkVLXN5h9-W",
        "outputId": "fd0b0bf9-fec0-4772-b5c9-5c54c9d63c9e"
      },
      "source": [
        "np.mean(np.square(A - repr @ basis))"
      ],
      "execution_count": 214,
      "outputs": [
        {
          "output_type": "execute_result",
          "data": {
            "text/plain": [
              "2.540301596646764e-32"
            ]
          },
          "metadata": {
            "tags": []
          },
          "execution_count": 214
        }
      ]
    },
    {
      "cell_type": "markdown",
      "metadata": {
        "id": "R5csshpLjo0S"
      },
      "source": [
        "# Question 2 & 3\n",
        "\n",
        "Generate a stream of 96 random bits and transmit it at a bit rate of 5 mbps (million bits per second)\n",
        "over a carrier frequency 50 MHz, and sampled at 500 MHz, examine the signal waveforms for\n",
        "* BPSK\n",
        "* QPSK\n",
        "* 8-PSK\n",
        "* 16-QAM\n",
        "* 64-QAM.\n",
        "\n",
        "Try to retrieve the transmitted bits from the modulated waveforms using a correlation receiver, since there is no additive noise, there should be no errors."
      ]
    },
    {
      "cell_type": "code",
      "metadata": {
        "colab": {
          "base_uri": "https://localhost:8080/"
        },
        "id": "t3cADDr6jxiM",
        "outputId": "f36ce07f-3ec4-4fcf-8055-013455f2b897"
      },
      "source": [
        "bitstream = np.random.randint(low = 0, high = 2, size = (96,))\n",
        "\n",
        "print(bitstream.shape)\n",
        "print(bitstream)"
      ],
      "execution_count": 215,
      "outputs": [
        {
          "output_type": "stream",
          "text": [
            "(96,)\n",
            "[0 1 0 1 0 0 0 1 0 0 1 1 1 0 1 0 1 0 1 1 0 1 1 0 0 0 1 0 0 0 1 0 0 1 0 1 1\n",
            " 0 1 0 1 1 0 0 0 1 1 1 0 0 1 1 1 1 0 0 0 0 0 0 0 1 1 1 0 1 1 1 0 0 1 1 1 0\n",
            " 0 1 1 0 0 1 1 0 1 0 0 0 1 0 1 1 1 1 0 1 0 1]\n"
          ],
          "name": "stdout"
        }
      ]
    },
    {
      "cell_type": "code",
      "metadata": {
        "id": "sM1eoPR1lole"
      },
      "source": [
        "# setting constants\n",
        "transmission_rate = 5e6\n",
        "f_c = 50e6\n",
        "f_s = 500e6"
      ],
      "execution_count": 216,
      "outputs": []
    },
    {
      "cell_type": "markdown",
      "metadata": {
        "id": "wtJqXIwMj8Qq"
      },
      "source": [
        "## BPSK"
      ]
    },
    {
      "cell_type": "code",
      "metadata": {
        "colab": {
          "base_uri": "https://localhost:8080/"
        },
        "id": "2jAtXII_qImo",
        "outputId": "b02ccbda-8002-4aa7-d959-548d2fa0ebf3"
      },
      "source": [
        "num_symbs = 2\n",
        "bits_per_symb = np.int32(np.ceil(np.log2(num_symbs)))\n",
        "\n",
        "symb_time = bits_per_symb/transmission_rate \n",
        "print(f\"Time per Symbol: {symb_time}s\")\n",
        "\n",
        "samples_per_symb = np.int32(np.round(symb_time*f_s))\n",
        "print(f\"Number of samples per symbol: {samples_per_symb}\")\n",
        "\n",
        "psk_out = np.zeros(int(samples_per_symb * len(bitstream)/bits_per_symb))\n",
        "\n",
        "psk_theta = [2*np.pi*(m/num_symbs) for m in range(num_symbs)]\n",
        "print(psk_theta)"
      ],
      "execution_count": 217,
      "outputs": [
        {
          "output_type": "stream",
          "text": [
            "Time per Symbol: 2e-07s\n",
            "Number of samples per symbol: 100\n",
            "[0.0, 3.141592653589793]\n"
          ],
          "name": "stdout"
        }
      ]
    },
    {
      "cell_type": "code",
      "metadata": {
        "id": "ioWdPmaUqImx"
      },
      "source": [
        "for i in range(0, len(bitstream), bits_per_symb):\n",
        "  \n",
        "  m = 0\n",
        "  for j in range(bits_per_symb):\n",
        "    m = 2*m + bitstream[i + j]\n",
        "  \n",
        "  for j in range(samples_per_symb):\n",
        "    index = int((i/bits_per_symb) * samples_per_symb + j)\n",
        "    t = float(index * (1/f_s))\n",
        "    psk_out[index] = np.cos(2*(np.pi)*f_c*t + psk_theta[m])"
      ],
      "execution_count": 218,
      "outputs": []
    },
    {
      "cell_type": "code",
      "metadata": {
        "colab": {
          "base_uri": "https://localhost:8080/",
          "height": 496
        },
        "id": "7amLyp3qqImx",
        "outputId": "09c991ce-5a65-492c-e384-e26bb384da65"
      },
      "source": [
        "t = np.arange(0, len(psk_out) * (1/f_s) , (1/f_s))\n",
        "\n",
        "plt.figure(figsize=(15,8))\n",
        "plt.scatter(t, psk_out)\n",
        "plt.show()"
      ],
      "execution_count": 219,
      "outputs": [
        {
          "output_type": "display_data",
          "data": {
            "image/png": "[encoded data removed]",
            "text/plain": [
              "<Figure size 1080x576 with 1 Axes>"
            ]
          },
          "metadata": {
            "tags": [],
            "needs_background": "light"
          }
        }
      ]
    },
    {
      "cell_type": "code",
      "metadata": {
        "id": "Y96EKz-8qImx"
      },
      "source": [
        "out = np.zeros_like(bitstream)"
      ],
      "execution_count": 220,
      "outputs": []
    },
    {
      "cell_type": "code",
      "metadata": {
        "id": "izZFhEVpqImy"
      },
      "source": [
        "for i in range(0, len(bitstream), bits_per_symb):\n",
        "\n",
        "  real_symb = psk_out[int(samples_per_symb * (i/bits_per_symb)) : int(samples_per_symb * ((i/bits_per_symb)+1))]\n",
        "  \n",
        "\n",
        "  symbs = np.zeros((num_symbs, samples_per_symb))\n",
        "  t = np.arange(int(samples_per_symb * (i/bits_per_symb)), int(samples_per_symb * ((i/bits_per_symb)+1)), 1) * (1/f_s)\n",
        "  for k in range(num_symbs):\n",
        "    symbs[k,:] =  np.cos(2 * np.pi * f_c * t + psk_theta[k])\n",
        "  \n",
        "  corr = np.matmul(symbs, real_symb.T)\n",
        "  symb_exp = np.argmax(corr)\n",
        "  bits = \"{0:b}\".format(symb_exp).zfill(bits_per_symb)\n",
        "\n",
        "  for j in range(bits_per_symb):\n",
        "    out[i+j] = bits[j]  "
      ],
      "execution_count": 221,
      "outputs": []
    },
    {
      "cell_type": "code",
      "metadata": {
        "colab": {
          "base_uri": "https://localhost:8080/"
        },
        "id": "bShD1TayqImy",
        "outputId": "429be279-13f9-46bb-e1bf-eef04b917cfb"
      },
      "source": [
        "out"
      ],
      "execution_count": 222,
      "outputs": [
        {
          "output_type": "execute_result",
          "data": {
            "text/plain": [
              "array([0, 1, 0, 1, 0, 0, 0, 1, 0, 0, 1, 1, 1, 0, 1, 0, 1, 0, 1, 1, 0, 1,\n",
              "       1, 0, 0, 0, 1, 0, 0, 0, 1, 0, 0, 1, 0, 1, 1, 0, 1, 0, 1, 1, 0, 0,\n",
              "       0, 1, 1, 1, 0, 0, 1, 1, 1, 1, 0, 0, 0, 0, 0, 0, 0, 1, 1, 1, 0, 1,\n",
              "       1, 1, 0, 0, 1, 1, 1, 0, 0, 1, 1, 0, 0, 1, 1, 0, 1, 0, 0, 0, 1, 0,\n",
              "       1, 1, 1, 1, 0, 1, 0, 1])"
            ]
          },
          "metadata": {
            "tags": []
          },
          "execution_count": 222
        }
      ]
    },
    {
      "cell_type": "code",
      "metadata": {
        "colab": {
          "base_uri": "https://localhost:8080/"
        },
        "id": "PMJMy5EjqImy",
        "outputId": "8196636a-e979-49b5-c1a8-76a12a4ed6d6"
      },
      "source": [
        "print(f\"MSE: {np.square(np.mean(bitstream - out))}\")"
      ],
      "execution_count": 223,
      "outputs": [
        {
          "output_type": "stream",
          "text": [
            "MSE: 0.0\n"
          ],
          "name": "stdout"
        }
      ]
    },
    {
      "cell_type": "markdown",
      "metadata": {
        "id": "ObCFs9rPljbw"
      },
      "source": [
        "## QPSK"
      ]
    },
    {
      "cell_type": "code",
      "metadata": {
        "colab": {
          "base_uri": "https://localhost:8080/"
        },
        "id": "NMKrpBXeljbx",
        "outputId": "c8077790-90e4-4758-f6b2-3274430f3279"
      },
      "source": [
        "num_symbs = 4\n",
        "bits_per_symb = np.int32(np.ceil(np.log2(num_symbs)))\n",
        "\n",
        "symb_time = bits_per_symb/transmission_rate \n",
        "print(f\"Time per Symbol: {symb_time}s\")\n",
        "\n",
        "samples_per_symb = np.int32(np.round(symb_time*f_s))\n",
        "print(f\"Number of samples per symbol: {samples_per_symb}\")\n",
        "\n",
        "psk_out = np.zeros(int(samples_per_symb * len(bitstream)/bits_per_symb))\n",
        "\n",
        "psk_theta = [2*np.pi*(m/num_symbs) for m in range(num_symbs)]\n",
        "print(psk_theta)"
      ],
      "execution_count": 224,
      "outputs": [
        {
          "output_type": "stream",
          "text": [
            "Time per Symbol: 4e-07s\n",
            "Number of samples per symbol: 200\n",
            "[0.0, 1.5707963267948966, 3.141592653589793, 4.71238898038469]\n"
          ],
          "name": "stdout"
        }
      ]
    },
    {
      "cell_type": "code",
      "metadata": {
        "id": "-anOytIYljbx"
      },
      "source": [
        "for i in range(0, len(bitstream), bits_per_symb):\n",
        "  \n",
        "  m = 0\n",
        "  for j in range(bits_per_symb):\n",
        "    m = 2*m + bitstream[i + j]\n",
        "  \n",
        "  for j in range(samples_per_symb):\n",
        "    index = int((i/bits_per_symb) * samples_per_symb + j)\n",
        "    t = float(index * (1/f_s))\n",
        "    psk_out[index] = np.cos(2*(np.pi)*f_c*t + psk_theta[m])"
      ],
      "execution_count": 225,
      "outputs": []
    },
    {
      "cell_type": "code",
      "metadata": {
        "colab": {
          "base_uri": "https://localhost:8080/",
          "height": 496
        },
        "id": "iyZWDmvyljby",
        "outputId": "5560433f-1f23-4c15-97cd-1f5521533325"
      },
      "source": [
        "t = np.arange(0, len(psk_out) * (1/f_s) , (1/f_s))\n",
        "\n",
        "plt.figure(figsize=(15,8))\n",
        "plt.scatter(t, psk_out)\n",
        "plt.show()"
      ],
      "execution_count": 226,
      "outputs": [
        {
          "output_type": "display_data",
          "data": {
            "image/png": "[encoded data removed]",
            "text/plain": [
              "<Figure size 1080x576 with 1 Axes>"
            ]
          },
          "metadata": {
            "tags": [],
            "needs_background": "light"
          }
        }
      ]
    },
    {
      "cell_type": "code",
      "metadata": {
        "id": "rLiPGOdcljby"
      },
      "source": [
        "out = np.zeros_like(bitstream)"
      ],
      "execution_count": 227,
      "outputs": []
    },
    {
      "cell_type": "code",
      "metadata": {
        "id": "K_wkkJjJljby"
      },
      "source": [
        "for i in range(0, len(bitstream), bits_per_symb):\n",
        "\n",
        "  real_symb = psk_out[int(samples_per_symb * (i/bits_per_symb)) : int(samples_per_symb * ((i/bits_per_symb)+1))]\n",
        "  \n",
        "\n",
        "  symbs = np.zeros((num_symbs, samples_per_symb))\n",
        "  t = np.arange(int(samples_per_symb * (i/bits_per_symb)), int(samples_per_symb * ((i/bits_per_symb)+1)), 1) * (1/f_s)\n",
        "  for k in range(num_symbs):\n",
        "    symbs[k,:] =  np.cos(2 * np.pi * f_c * t + psk_theta[k])\n",
        "  \n",
        "  corr = np.matmul(symbs, real_symb.T)\n",
        "  symb_exp = np.argmax(corr)\n",
        "  bits = \"{0:b}\".format(symb_exp).zfill(bits_per_symb)\n",
        "\n",
        "  for j in range(bits_per_symb):\n",
        "    out[i+j] = bits[j]  "
      ],
      "execution_count": 228,
      "outputs": []
    },
    {
      "cell_type": "code",
      "metadata": {
        "colab": {
          "base_uri": "https://localhost:8080/"
        },
        "id": "71TlXRXPljbz",
        "outputId": "daca103a-da85-4150-ac6c-c9e348f8ec48"
      },
      "source": [
        "out"
      ],
      "execution_count": 229,
      "outputs": [
        {
          "output_type": "execute_result",
          "data": {
            "text/plain": [
              "array([0, 1, 0, 1, 0, 0, 0, 1, 0, 0, 1, 1, 1, 0, 1, 0, 1, 0, 1, 1, 0, 1,\n",
              "       1, 0, 0, 0, 1, 0, 0, 0, 1, 0, 0, 1, 0, 1, 1, 0, 1, 0, 1, 1, 0, 0,\n",
              "       0, 1, 1, 1, 0, 0, 1, 1, 1, 1, 0, 0, 0, 0, 0, 0, 0, 1, 1, 1, 0, 1,\n",
              "       1, 1, 0, 0, 1, 1, 1, 0, 0, 1, 1, 0, 0, 1, 1, 0, 1, 0, 0, 0, 1, 0,\n",
              "       1, 1, 1, 1, 0, 1, 0, 1])"
            ]
          },
          "metadata": {
            "tags": []
          },
          "execution_count": 229
        }
      ]
    },
    {
      "cell_type": "code",
      "metadata": {
        "colab": {
          "base_uri": "https://localhost:8080/"
        },
        "id": "xfUcDN2Vljbz",
        "outputId": "2d18f747-b6b4-42c3-bdcb-6e3eeeef7a45"
      },
      "source": [
        "print(f\"MSE: {np.square(np.mean(bitstream - out))}\")"
      ],
      "execution_count": 230,
      "outputs": [
        {
          "output_type": "stream",
          "text": [
            "MSE: 0.0\n"
          ],
          "name": "stdout"
        }
      ]
    },
    {
      "cell_type": "markdown",
      "metadata": {
        "id": "SXaX4bVdlwVp"
      },
      "source": [
        "## 8-PSK"
      ]
    },
    {
      "cell_type": "code",
      "metadata": {
        "colab": {
          "base_uri": "https://localhost:8080/"
        },
        "id": "3ZZ8YNLBqTKM",
        "outputId": "e9958e51-9eec-4bdb-bca5-b00b792af8f2"
      },
      "source": [
        "num_symbs = 8\n",
        "bits_per_symb = np.int32(np.ceil(np.log2(num_symbs)))\n",
        "\n",
        "symb_time = bits_per_symb/transmission_rate \n",
        "print(f\"Time per Symbol: {symb_time}s\")\n",
        "\n",
        "samples_per_symb = np.int32(np.round(symb_time*f_s))\n",
        "print(f\"Number of samples per symbol: {samples_per_symb}\")\n",
        "\n",
        "psk_out = np.zeros(int(samples_per_symb * len(bitstream)/bits_per_symb))\n",
        "\n",
        "psk_theta = [2*np.pi*(m/num_symbs) for m in range(num_symbs)]\n",
        "print(psk_theta)"
      ],
      "execution_count": 231,
      "outputs": [
        {
          "output_type": "stream",
          "text": [
            "Time per Symbol: 6e-07s\n",
            "Number of samples per symbol: 300\n",
            "[0.0, 0.7853981633974483, 1.5707963267948966, 2.356194490192345, 3.141592653589793, 3.9269908169872414, 4.71238898038469, 5.497787143782138]\n"
          ],
          "name": "stdout"
        }
      ]
    },
    {
      "cell_type": "code",
      "metadata": {
        "id": "aMWIGd29qTKN"
      },
      "source": [
        "for i in range(0, len(bitstream), bits_per_symb):\n",
        "  \n",
        "  m = 0\n",
        "  for j in range(bits_per_symb):\n",
        "    m = 2*m + bitstream[i + j]\n",
        "  \n",
        "  for j in range(samples_per_symb):\n",
        "    index = int((i/bits_per_symb) * samples_per_symb + j)\n",
        "    t = float(index * (1/f_s))\n",
        "    psk_out[index] = np.cos(2*(np.pi)*f_c*t + psk_theta[m])"
      ],
      "execution_count": 232,
      "outputs": []
    },
    {
      "cell_type": "code",
      "metadata": {
        "colab": {
          "base_uri": "https://localhost:8080/",
          "height": 496
        },
        "id": "gTU0g5GnqTKN",
        "outputId": "0b3a00c9-e0d5-46b9-d440-82350ce665d2"
      },
      "source": [
        "t = np.arange(0, len(psk_out) * (1/f_s) , (1/f_s))\n",
        "\n",
        "plt.figure(figsize=(15,8))\n",
        "plt.scatter(t, psk_out)\n",
        "plt.show()"
      ],
      "execution_count": 233,
      "outputs": [
        {
          "output_type": "display_data",
          "data": {
            "image/png": "[encoded data removed]",
            "text/plain": [
              "<Figure size 1080x576 with 1 Axes>"
            ]
          },
          "metadata": {
            "tags": [],
            "needs_background": "light"
          }
        }
      ]
    },
    {
      "cell_type": "code",
      "metadata": {
        "id": "E66lCroDqTKN"
      },
      "source": [
        "out = np.zeros_like(bitstream)"
      ],
      "execution_count": 234,
      "outputs": []
    },
    {
      "cell_type": "code",
      "metadata": {
        "id": "R9wY3YcEqTKO"
      },
      "source": [
        "for i in range(0, len(bitstream), bits_per_symb):\n",
        "\n",
        "  real_symb = psk_out[int(samples_per_symb * (i/bits_per_symb)) : int(samples_per_symb * ((i/bits_per_symb)+1))]\n",
        "  \n",
        "\n",
        "  symbs = np.zeros((num_symbs, samples_per_symb))\n",
        "  t = np.arange(int(samples_per_symb * (i/bits_per_symb)), int(samples_per_symb * ((i/bits_per_symb)+1)), 1) * (1/f_s)\n",
        "  for k in range(num_symbs):\n",
        "    symbs[k,:] =  np.cos(2 * np.pi * f_c * t + psk_theta[k])\n",
        "  \n",
        "  corr = np.matmul(symbs, real_symb.T)\n",
        "  symb_exp = np.argmax(corr)\n",
        "  bits = \"{0:b}\".format(symb_exp).zfill(bits_per_symb)\n",
        "\n",
        "  for j in range(bits_per_symb):\n",
        "    out[i+j] = bits[j]  "
      ],
      "execution_count": 235,
      "outputs": []
    },
    {
      "cell_type": "code",
      "metadata": {
        "colab": {
          "base_uri": "https://localhost:8080/"
        },
        "id": "YpOXYDK6qTKO",
        "outputId": "2d84062a-285e-4568-b915-01ee8f833dc9"
      },
      "source": [
        "out"
      ],
      "execution_count": 236,
      "outputs": [
        {
          "output_type": "execute_result",
          "data": {
            "text/plain": [
              "array([0, 1, 0, 1, 0, 0, 0, 1, 0, 0, 1, 1, 1, 0, 1, 0, 1, 0, 1, 1, 0, 1,\n",
              "       1, 0, 0, 0, 1, 0, 0, 0, 1, 0, 0, 1, 0, 1, 1, 0, 1, 0, 1, 1, 0, 0,\n",
              "       0, 1, 1, 1, 0, 0, 1, 1, 1, 1, 0, 0, 0, 0, 0, 0, 0, 1, 1, 1, 0, 1,\n",
              "       1, 1, 0, 0, 1, 1, 1, 0, 0, 1, 1, 0, 0, 1, 1, 0, 1, 0, 0, 0, 1, 0,\n",
              "       1, 1, 1, 1, 0, 1, 0, 1])"
            ]
          },
          "metadata": {
            "tags": []
          },
          "execution_count": 236
        }
      ]
    },
    {
      "cell_type": "code",
      "metadata": {
        "colab": {
          "base_uri": "https://localhost:8080/"
        },
        "id": "9m_MCc41qTKO",
        "outputId": "46b1ef70-05c2-4524-f4b5-8b75cf34d5b9"
      },
      "source": [
        "print(f\"MSE: {np.square(np.mean(bitstream - out))}\")"
      ],
      "execution_count": 237,
      "outputs": [
        {
          "output_type": "stream",
          "text": [
            "MSE: 0.0\n"
          ],
          "name": "stdout"
        }
      ]
    },
    {
      "cell_type": "markdown",
      "metadata": {
        "id": "R4O6gOkrqTKO"
      },
      "source": [
        "# 16 QAM"
      ]
    },
    {
      "cell_type": "code",
      "metadata": {
        "colab": {
          "base_uri": "https://localhost:8080/"
        },
        "id": "dO04IGrArHUU",
        "outputId": "e7513c33-11ce-4196-fe2b-2d4a98d38f0c"
      },
      "source": [
        "num_symbs = 16\n",
        "bits_per_symb = np.int32(np.ceil(np.log2(num_symbs)))\n",
        "\n",
        "symb_time = bits_per_symb/transmission_rate \n",
        "print(f\"Time per Symbol: {symb_time}s\")\n",
        "\n",
        "samples_per_symb = np.int32(np.round(symb_time*f_s))\n",
        "print(f\"Number of samples per symbol: {samples_per_symb}\")\n",
        "\n",
        "# for square QAM\n",
        "x_pts = 8\n",
        "y_pts = 2\n",
        "\n",
        "Ami = np.asarray( [2*i - (x_pts - 1) for i in range((x_pts))] )\n",
        "Amq = np.asarray( [2*i - (y_pts - 1) for i in range(y_pts)] )\n",
        "\n",
        "print(f\"Ami: {Ami}\")\n",
        "print(f\"Amq: {Amq}\")\n",
        "\n",
        "qam_out = np.zeros((np.int32(samples_per_symb * (len(bitstream)/bits_per_symb)),))"
      ],
      "execution_count": 239,
      "outputs": [
        {
          "output_type": "stream",
          "text": [
            "Time per Symbol: 8e-07s\n",
            "Number of samples per symbol: 400\n",
            "Ami: [-7 -5 -3 -1  1  3  5  7]\n",
            "Amq: [-1  1]\n"
          ],
          "name": "stdout"
        }
      ]
    },
    {
      "cell_type": "code",
      "metadata": {
        "id": "99SR-4fOrHUV"
      },
      "source": [
        "for i in range(0, len(bitstream), bits_per_symb):\n",
        "  \n",
        "  m = 0\n",
        "  for j in range(bits_per_symb):\n",
        "    m = 2*m + bitstream[i + j]\n",
        "  \n",
        "  for j in range(samples_per_symb):\n",
        "    index = int((i/bits_per_symb) * samples_per_symb + j)\n",
        "    t = float(index * (1/f_s))\n",
        "    angle = 2*np.pi*f_c*t\n",
        "\n",
        "    m_real = m % x_pts\n",
        "    m_img = m // x_pts\n",
        "\n",
        "    A = np.complex(Ami[m_real], Amq[m_img])\n",
        "\n",
        "    qam_out[index] = (A * np.exp(np.complex(0,angle))).real"
      ],
      "execution_count": 246,
      "outputs": []
    },
    {
      "cell_type": "code",
      "metadata": {
        "colab": {
          "base_uri": "https://localhost:8080/",
          "height": 496
        },
        "id": "YDFqFG50rHUV",
        "outputId": "546a0053-2262-4252-a242-c8e298cb6af8"
      },
      "source": [
        "t = np.arange(0, len(qam_out) * (1/f_s) , (1/f_s))\n",
        "\n",
        "plt.figure(figsize=(15,8))\n",
        "plt.scatter(t, qam_out)\n",
        "plt.show()"
      ],
      "execution_count": 247,
      "outputs": [
        {
          "output_type": "display_data",
          "data": {
            "image/png": "[encoded data removed]",
            "text/plain": [
              "<Figure size 1080x576 with 1 Axes>"
            ]
          },
          "metadata": {
            "tags": [],
            "needs_background": "light"
          }
        }
      ]
    },
    {
      "cell_type": "code",
      "metadata": {
        "id": "MO3m56ctrHUW"
      },
      "source": [
        "out = np.zeros_like(bitstream)"
      ],
      "execution_count": 248,
      "outputs": []
    },
    {
      "cell_type": "code",
      "metadata": {
        "id": "CtwM4GWKrHUW"
      },
      "source": [
        "for i in range(0, len(bitstream), bits_per_symb):\n",
        "\n",
        "  real_symb = qam_out[int((i/bits_per_symb)*samples_per_symb):int((i/bits_per_symb)*samples_per_symb) + samples_per_symb]\n",
        "  real_symb = real_symb/np.linalg.norm(real_symb)\n",
        "\n",
        "  symbs = np.zeros((num_symbs, samples_per_symb))\n",
        "\n",
        "  t = np.arange(samples_per_symb * i, samples_per_symb * (i+1), 1) * (1/f_s)\n",
        "\n",
        "  for j in range(num_symbs):\n",
        "    m_real = j % x_pts\n",
        "    m_img = j // x_pts\n",
        "\n",
        "    A = np.complex(Ami[m_real], Amq[m_img])\n",
        "\n",
        "    angle = 2*np.pi*f_c*t\n",
        "    symb = np.asarray([ (A * np.exp(np.complex(0, 2*np.pi*f_c*ti))).real for ti in t  ]) \n",
        "    symbs[j,:] = symb/np.linalg.norm(symb) \n",
        "  \n",
        "  corr = np.matmul(symbs, real_symb.T)\n",
        "  symb_exp = np.argmax(corr)\n",
        "  bits = \"{0:b}\".format(symb_exp).zfill(bits_per_symb)\n",
        "  out[i:i+bits_per_symb] = [(1 if bits[k]=='1' else 0) for k in range(bits_per_symb)]"
      ],
      "execution_count": 260,
      "outputs": []
    },
    {
      "cell_type": "code",
      "metadata": {
        "colab": {
          "base_uri": "https://localhost:8080/"
        },
        "id": "faeOGYQ6rHUW",
        "outputId": "7850abdb-40a2-4a7a-d488-e7cee276fb84"
      },
      "source": [
        "out"
      ],
      "execution_count": 261,
      "outputs": [
        {
          "output_type": "execute_result",
          "data": {
            "text/plain": [
              "array([0, 1, 0, 1, 0, 0, 0, 1, 0, 0, 1, 1, 1, 0, 1, 0, 1, 0, 1, 1, 0, 1,\n",
              "       1, 0, 0, 0, 1, 0, 0, 0, 1, 0, 0, 1, 0, 1, 1, 0, 1, 0, 1, 1, 0, 0,\n",
              "       0, 1, 1, 1, 0, 0, 1, 1, 1, 1, 0, 0, 0, 0, 0, 0, 0, 1, 1, 1, 0, 1,\n",
              "       1, 1, 0, 0, 1, 1, 1, 0, 0, 1, 1, 0, 0, 1, 1, 0, 1, 0, 0, 0, 1, 0,\n",
              "       1, 1, 1, 1, 0, 1, 0, 1])"
            ]
          },
          "metadata": {
            "tags": []
          },
          "execution_count": 261
        }
      ]
    },
    {
      "cell_type": "code",
      "metadata": {
        "colab": {
          "base_uri": "https://localhost:8080/"
        },
        "id": "PfFtz6bIrHUX",
        "outputId": "4debbef7-3e40-46e7-a821-04cb609c476b"
      },
      "source": [
        "print(f\"MSE: {np.square(np.mean(bitstream - out)): .4f}\")"
      ],
      "execution_count": 262,
      "outputs": [
        {
          "output_type": "stream",
          "text": [
            "MSE:  0.0000\n"
          ],
          "name": "stdout"
        }
      ]
    },
    {
      "cell_type": "markdown",
      "metadata": {
        "id": "XfR0BVay7uOJ"
      },
      "source": [
        "# 64 QAM"
      ]
    },
    {
      "cell_type": "code",
      "metadata": {
        "colab": {
          "base_uri": "https://localhost:8080/"
        },
        "id": "AUHRasi1Fx8Y",
        "outputId": "5e62c3fc-d58d-4985-d67a-7ef03b6bcebf"
      },
      "source": [
        "num_symbs = 64\n",
        "bits_per_symb = np.int32(np.ceil(np.log2(num_symbs)))\n",
        "\n",
        "symb_time = bits_per_symb/transmission_rate \n",
        "print(f\"Time per Symbol: {symb_time}s\")\n",
        "\n",
        "samples_per_symb = np.int32(np.round(symb_time*f_s))\n",
        "print(f\"Number of samples per symbol: {samples_per_symb}\")\n",
        "\n",
        "# for square QAM\n",
        "x_pts = 32\n",
        "y_pts = 2\n",
        "\n",
        "Ami = np.asarray( [2*i - (x_pts - 1) for i in range((x_pts))] )\n",
        "Amq = np.asarray( [2*i - (y_pts - 1) for i in range(y_pts)] )\n",
        "\n",
        "print(f\"Ami: {Ami}\")\n",
        "print(f\"Amq: {Amq}\")\n",
        "\n",
        "qam_out = np.zeros((np.int32(samples_per_symb * (len(bitstream)/bits_per_symb)),))"
      ],
      "execution_count": 263,
      "outputs": [
        {
          "output_type": "stream",
          "text": [
            "Time per Symbol: 1.2e-06s\n",
            "Number of samples per symbol: 600\n",
            "Ami: [-31 -29 -27 -25 -23 -21 -19 -17 -15 -13 -11  -9  -7  -5  -3  -1   1   3\n",
            "   5   7   9  11  13  15  17  19  21  23  25  27  29  31]\n",
            "Amq: [-1  1]\n"
          ],
          "name": "stdout"
        }
      ]
    },
    {
      "cell_type": "code",
      "metadata": {
        "id": "wABx0FpJFx8c"
      },
      "source": [
        "for i in range(0, len(bitstream), bits_per_symb):\n",
        "  \n",
        "  m = 0\n",
        "  for j in range(bits_per_symb):\n",
        "    m = 2*m + bitstream[i + j]\n",
        "  \n",
        "  for j in range(samples_per_symb):\n",
        "    index = int((i/bits_per_symb) * samples_per_symb + j)\n",
        "    t = float(index * (1/f_s))\n",
        "    angle = 2*np.pi*f_c*t\n",
        "\n",
        "    m_real = m % x_pts\n",
        "    m_img = m // x_pts\n",
        "\n",
        "    A = np.complex(Ami[m_real], Amq[m_img])\n",
        "\n",
        "    qam_out[index] = (A * np.exp(np.complex(0,angle))).real"
      ],
      "execution_count": 264,
      "outputs": []
    },
    {
      "cell_type": "code",
      "metadata": {
        "colab": {
          "base_uri": "https://localhost:8080/",
          "height": 496
        },
        "id": "sL_h_lmNFx8e",
        "outputId": "e4dce76a-1765-498b-8289-e13ab984897e"
      },
      "source": [
        "t = np.arange(0, len(qam_out) * (1/f_s) , (1/f_s))\n",
        "\n",
        "plt.figure(figsize=(15,8))\n",
        "plt.scatter(t, qam_out)\n",
        "plt.show()"
      ],
      "execution_count": 265,
      "outputs": [
        {
          "output_type": "display_data",
          "data": {
            "image/png": "[encoded data removed]",
            "text/plain": [
              "<Figure size 1080x576 with 1 Axes>"
            ]
          },
          "metadata": {
            "tags": [],
            "needs_background": "light"
          }
        }
      ]
    },
    {
      "cell_type": "code",
      "metadata": {
        "id": "xQlDg189Fx8g"
      },
      "source": [
        "out = np.zeros_like(bitstream)"
      ],
      "execution_count": 266,
      "outputs": []
    },
    {
      "cell_type": "code",
      "metadata": {
        "id": "dUwM25_xFx8h"
      },
      "source": [
        "for i in range(0, len(bitstream), bits_per_symb):\n",
        "\n",
        "  real_symb = qam_out[int((i/bits_per_symb)*samples_per_symb):int((i/bits_per_symb)*samples_per_symb) + samples_per_symb]\n",
        "  real_symb = real_symb/np.linalg.norm(real_symb)\n",
        "\n",
        "  symbs = np.zeros((num_symbs, samples_per_symb))\n",
        "\n",
        "  t = np.arange(samples_per_symb * i, samples_per_symb * (i+1), 1) * (1/f_s)\n",
        "\n",
        "  for j in range(num_symbs):\n",
        "    m_real = j % x_pts\n",
        "    m_img = j // x_pts\n",
        "\n",
        "    A = np.complex(Ami[m_real], Amq[m_img])\n",
        "\n",
        "    angle = 2*np.pi*f_c*t\n",
        "    symb = np.asarray([ (A * np.exp(np.complex(0, 2*np.pi*f_c*ti))).real for ti in t  ]) \n",
        "    symbs[j,:] = symb/np.linalg.norm(symb) \n",
        "  \n",
        "  corr = np.matmul(symbs, real_symb.T)\n",
        "  symb_exp = np.argmax(corr)\n",
        "  bits = \"{0:b}\".format(symb_exp).zfill(bits_per_symb)\n",
        "  out[i:i+bits_per_symb] = [(1 if bits[k]=='1' else 0) for k in range(bits_per_symb)]"
      ],
      "execution_count": 267,
      "outputs": []
    },
    {
      "cell_type": "code",
      "metadata": {
        "colab": {
          "base_uri": "https://localhost:8080/"
        },
        "id": "uPxoky4pFx8i",
        "outputId": "735d6712-bc74-49b9-c230-ddde2386fb59"
      },
      "source": [
        "out"
      ],
      "execution_count": 268,
      "outputs": [
        {
          "output_type": "execute_result",
          "data": {
            "text/plain": [
              "array([0, 1, 0, 1, 0, 0, 0, 1, 0, 0, 1, 1, 1, 0, 1, 0, 1, 0, 1, 1, 0, 1,\n",
              "       1, 0, 0, 0, 1, 0, 0, 0, 1, 0, 0, 1, 0, 1, 1, 0, 1, 0, 1, 1, 0, 0,\n",
              "       0, 1, 1, 1, 0, 0, 1, 1, 1, 1, 0, 0, 0, 0, 0, 0, 0, 1, 1, 1, 0, 1,\n",
              "       1, 1, 0, 0, 1, 1, 1, 0, 0, 1, 1, 0, 0, 1, 1, 0, 1, 0, 0, 0, 1, 0,\n",
              "       1, 1, 1, 1, 0, 1, 0, 1])"
            ]
          },
          "metadata": {
            "tags": []
          },
          "execution_count": 268
        }
      ]
    },
    {
      "cell_type": "code",
      "metadata": {
        "colab": {
          "base_uri": "https://localhost:8080/"
        },
        "id": "QzzBoQtCFx8k",
        "outputId": "dfbb8f81-22a6-48cf-a1e9-262db7d004db"
      },
      "source": [
        "print(f\"MSE: {np.square(np.mean(bitstream - out)): .4f}\")"
      ],
      "execution_count": 269,
      "outputs": [
        {
          "output_type": "stream",
          "text": [
            "MSE:  0.0000\n"
          ],
          "name": "stdout"
        }
      ]
    }
  ]
}