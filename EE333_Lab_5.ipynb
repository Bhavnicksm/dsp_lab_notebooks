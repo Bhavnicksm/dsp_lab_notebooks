{
  "nbformat": 4,
  "nbformat_minor": 0,
  "metadata": {
    "colab": {
      "name": "EE333_Lab_5.ipynb",
      "provenance": [],
      "collapsed_sections": [],
      "authorship_tag": "ABX9TyMl/AO02GVXsgo2py8yPdj0",
      "include_colab_link": true
    },
    "kernelspec": {
      "name": "python3",
      "display_name": "Python 3"
    }
  },
  "cells": [
    {
      "cell_type": "markdown",
      "metadata": {
        "id": "view-in-github",
        "colab_type": "text"
      },
      "source": [
        "<a href=\"https://colab.research.google.com/github/Bhavnicksm/dsp_lab_notebooks/blob/main/EE333_Lab_5.ipynb\" target=\"_parent\"><img src=\"https://colab.research.google.com/assets/colab-badge.svg\" alt=\"Open In Colab\"/></a>"
      ]
    },
    {
      "cell_type": "markdown",
      "metadata": {
        "id": "DHTmk3HL-gaa"
      },
      "source": [
        "# Question 1\n",
        "\n",
        "Generate a random matrix that has more columns than rows (fat-matrix) and Gram Schmidt\n",
        "orthogonalization on it, to generate an orthonormal matrix, and a representation of the original\n",
        "matrix with the newly generated orthonormal matrix as a basis."
      ]
    },
    {
      "cell_type": "code",
      "metadata": {
        "id": "bD0-AN1BbfG_"
      },
      "source": [
        "import numpy as np\n",
        "import matplotlib.pyplot as plt"
      ],
      "execution_count": 164,
      "outputs": []
    },
    {
      "cell_type": "code",
      "metadata": {
        "colab": {
          "base_uri": "https://localhost:8080/"
        },
        "id": "nGE8P8OLecIG",
        "outputId": "064c36ae-6403-4c27-8645-d6e8978ac5f4"
      },
      "source": [
        "A = np.random.rand(5,10)\n",
        "print(A)"
      ],
      "execution_count": 165,
      "outputs": [
        {
          "output_type": "stream",
          "text": [
            "[[0.95293805 0.76611859 0.87176814 0.02525811 0.97098821 0.2273109\n",
            "  0.95020963 0.54339412 0.18559013 0.43879065]\n",
            " [0.27350808 0.44453771 0.70554585 0.43600426 0.10509817 0.81894628\n",
            "  0.04125653 0.40348648 0.15429484 0.54152941]\n",
            " [0.3258228  0.97198588 0.07012522 0.65533652 0.69501953 0.70933546\n",
            "  0.89580523 0.32821019 0.0054076  0.39954927]\n",
            " [0.27955788 0.46990935 0.81837659 0.3679767  0.47553041 0.28681562\n",
            "  0.55957135 0.38670195 0.64454165 0.22764463]\n",
            " [0.21908434 0.92141593 0.21176396 0.8201628  0.68451328 0.17635234\n",
            "  0.89351247 0.38438184 0.9822786  0.97800432]]\n"
          ],
          "name": "stdout"
        }
      ]
    },
    {
      "cell_type": "code",
      "metadata": {
        "id": "9e6ZVok2erlj"
      },
      "source": [
        "def normalize(u):\n",
        "  return u/(np.linalg.norm(u))\n",
        "\n",
        "def project(u,v):\n",
        "  '''\n",
        "    Both u and v are assumed to be column vectors\n",
        "  '''\n",
        "  projection = (np.dot(u.T,v)/np.dot(u.T,u))*u\n",
        "  return projection\n",
        "  "
      ],
      "execution_count": 166,
      "outputs": []
    },
    {
      "cell_type": "code",
      "metadata": {
        "id": "XQUWe9lvhA0v"
      },
      "source": [
        "def gram_shmidt(A: np.ndarray):\n",
        "  E = []\n",
        "  U = []\n",
        "  for i in range(A.shape[0]):\n",
        "    v = A[i,:]\n",
        "    w = v - np.sum(np.asarray([project(u , v) for u in U]),axis=0)\n",
        "    U.append(w)\n",
        "    E.append(normalize(w))\n",
        "\n",
        "  U = np.asarray(U)\n",
        "  E = np.asarray(E)\n",
        "\n",
        "  return E"
      ],
      "execution_count": 167,
      "outputs": []
    },
    {
      "cell_type": "code",
      "metadata": {
        "colab": {
          "base_uri": "https://localhost:8080/"
        },
        "id": "GMiGQhRNdf0E",
        "outputId": "056385a2-7d3b-4bbd-fe54-5d94c3d57861"
      },
      "source": [
        "basis = gram_shmidt(A)\n",
        "basis.shape"
      ],
      "execution_count": 168,
      "outputs": [
        {
          "output_type": "execute_result",
          "data": {
            "text/plain": [
              "(5, 10)"
            ]
          },
          "metadata": {
            "tags": []
          },
          "execution_count": 168
        }
      ]
    },
    {
      "cell_type": "code",
      "metadata": {
        "colab": {
          "base_uri": "https://localhost:8080/"
        },
        "id": "xljPtclnht0T",
        "outputId": "1602298d-88c8-4b03-b063-b268c8cf02e4"
      },
      "source": [
        "repr = A @ basis.T\n",
        "repr"
      ],
      "execution_count": 169,
      "outputs": [
        {
          "output_type": "execute_result",
          "data": {
            "text/plain": [
              "array([[ 2.16224214e+00,  5.01208039e-16,  1.36522255e-16,\n",
              "         4.66130259e-16, -2.81483862e-16],\n",
              "       [ 9.43558787e-01,  1.11053816e+00, -3.42440301e-16,\n",
              "        -4.91857857e-16, -3.22008330e-17],\n",
              "       [ 1.46829007e+00,  4.60613417e-01,  1.08320212e+00,\n",
              "         1.38447055e-16,  2.33626072e-16],\n",
              "       [ 1.31225727e+00,  4.24756373e-01, -1.79793449e-02,\n",
              "         6.63069393e-01, -2.08919404e-16],\n",
              "       [ 1.61595639e+00,  4.87401697e-01,  7.80656732e-01,\n",
              "         8.08753908e-01,  9.32346073e-01]])"
            ]
          },
          "metadata": {
            "tags": []
          },
          "execution_count": 169
        }
      ]
    },
    {
      "cell_type": "code",
      "metadata": {
        "colab": {
          "base_uri": "https://localhost:8080/"
        },
        "id": "jMkVLXN5h9-W",
        "outputId": "33de4318-6c74-43a5-8778-e39374bba395"
      },
      "source": [
        "np.mean(np.square(A - repr @ basis))"
      ],
      "execution_count": 170,
      "outputs": [
        {
          "output_type": "execute_result",
          "data": {
            "text/plain": [
              "3.77207824082823e-32"
            ]
          },
          "metadata": {
            "tags": []
          },
          "execution_count": 170
        }
      ]
    },
    {
      "cell_type": "markdown",
      "metadata": {
        "id": "R5csshpLjo0S"
      },
      "source": [
        "# Question 2 & 3\n",
        "\n",
        "Generate a stream of 96 random bits and transmit it at a bit rate of 5 mbps (million bits per second)\n",
        "over a carrier frequency 50 MHz, and sampled at 500 MHz, examine the signal waveforms for\n",
        "* BPSK\n",
        "* QPSK\n",
        "* 8-PSK\n",
        "* 16-QAM\n",
        "* 64-QAM.\n",
        "\n",
        "Try to retrieve the transmitted bits from the modulated waveforms using a correlation receiver, since there is no additive noise, there should be no errors."
      ]
    },
    {
      "cell_type": "code",
      "metadata": {
        "colab": {
          "base_uri": "https://localhost:8080/"
        },
        "id": "t3cADDr6jxiM",
        "outputId": "09457ba8-9377-49e6-e2a6-0ab22741f3d8"
      },
      "source": [
        "bitstream = np.random.randint(low = 0, high = 2, size = (96,))\n",
        "\n",
        "print(bitstream.shape)\n",
        "print(bitstream)"
      ],
      "execution_count": 171,
      "outputs": [
        {
          "output_type": "stream",
          "text": [
            "(96,)\n",
            "[0 1 0 1 0 1 0 0 1 0 0 1 0 1 1 1 1 1 1 1 1 0 0 1 0 1 1 1 0 0 1 1 0 1 0 0 0\n",
            " 0 1 0 1 1 1 0 0 1 1 0 1 1 1 0 0 1 0 0 0 1 0 1 1 1 0 1 0 1 1 1 0 1 0 1 0 1\n",
            " 0 0 1 0 1 0 1 1 0 1 0 1 0 1 1 1 1 1 0 1 0 0]\n"
          ],
          "name": "stdout"
        }
      ]
    },
    {
      "cell_type": "code",
      "metadata": {
        "id": "sM1eoPR1lole"
      },
      "source": [
        "# setting constants\n",
        "transmission_rate = 5e6\n",
        "f_c = 50e6\n",
        "f_s = 500e6"
      ],
      "execution_count": 172,
      "outputs": []
    },
    {
      "cell_type": "markdown",
      "metadata": {
        "id": "wtJqXIwMj8Qq"
      },
      "source": [
        "## BPSK"
      ]
    },
    {
      "cell_type": "code",
      "metadata": {
        "colab": {
          "base_uri": "https://localhost:8080/"
        },
        "id": "2jAtXII_qImo",
        "outputId": "fb8b601d-0e34-4c81-f33a-1129d29fd8aa"
      },
      "source": [
        "num_symbs = 2\n",
        "bits_per_symb = np.int32(np.ceil(np.log2(num_symbs)))\n",
        "\n",
        "symb_time = bits_per_symb/transmission_rate \n",
        "print(f\"Time per Symbol: {symb_time}s\")\n",
        "\n",
        "samples_per_symb = np.int32(np.round(symb_time*f_s))\n",
        "print(f\"Number of samples per symbol: {samples_per_symb}\")\n",
        "\n",
        "psk_out = np.zeros(int(samples_per_symb * len(bitstream)/bits_per_symb))\n",
        "\n",
        "psk_theta = [2*np.pi*(m/num_symbs) for m in range(num_symbs)]\n",
        "print(psk_theta)"
      ],
      "execution_count": 173,
      "outputs": [
        {
          "output_type": "stream",
          "text": [
            "Time per Symbol: 2e-07s\n",
            "Number of samples per symbol: 100\n",
            "[0.0, 3.141592653589793]\n"
          ],
          "name": "stdout"
        }
      ]
    },
    {
      "cell_type": "code",
      "metadata": {
        "id": "ioWdPmaUqImx"
      },
      "source": [
        "for i in range(0, len(bitstream), bits_per_symb):\n",
        "  \n",
        "  m = 0\n",
        "  for j in range(bits_per_symb):\n",
        "    m = 2*m + bitstream[i + j]\n",
        "  \n",
        "  for j in range(samples_per_symb):\n",
        "    index = int((i/bits_per_symb) * samples_per_symb + j)\n",
        "    t = float(index * (1/f_s))\n",
        "    psk_out[index] = np.cos(2*(np.pi)*f_c*t + psk_theta[m])"
      ],
      "execution_count": 174,
      "outputs": []
    },
    {
      "cell_type": "code",
      "metadata": {
        "colab": {
          "base_uri": "https://localhost:8080/",
          "height": 496
        },
        "id": "7amLyp3qqImx",
        "outputId": "121ef91f-8830-46fd-a667-4af5f44abcb1"
      },
      "source": [
        "t = np.arange(0, len(psk_out) * (1/f_s) , (1/f_s))\n",
        "\n",
        "plt.figure(figsize=(15,8))\n",
        "plt.scatter(t, psk_out)\n",
        "plt.show()"
      ],
      "execution_count": 175,
      "outputs": [
        {
          "output_type": "display_data",
          "data": {
            "image/png": "[encoded data removed]",
            "text/plain": [
              "<Figure size 1080x576 with 1 Axes>"
            ]
          },
          "metadata": {
            "tags": [],
            "needs_background": "light"
          }
        }
      ]
    },
    {
      "cell_type": "code",
      "metadata": {
        "id": "Y96EKz-8qImx"
      },
      "source": [
        "out = np.zeros_like(bitstream)"
      ],
      "execution_count": 176,
      "outputs": []
    },
    {
      "cell_type": "code",
      "metadata": {
        "id": "izZFhEVpqImy"
      },
      "source": [
        "for i in range(0, len(bitstream), bits_per_symb):\n",
        "\n",
        "  real_symb = psk_out[int(samples_per_symb * (i/bits_per_symb)) : int(samples_per_symb * ((i/bits_per_symb)+1))]\n",
        "  \n",
        "\n",
        "  symbs = np.zeros((num_symbs, samples_per_symb))\n",
        "  t = np.arange(int(samples_per_symb * (i/bits_per_symb)), int(samples_per_symb * ((i/bits_per_symb)+1)), 1) * (1/f_s)\n",
        "  for k in range(num_symbs):\n",
        "    symbs[k,:] =  np.cos(2 * np.pi * f_c * t + psk_theta[k])\n",
        "  \n",
        "  corr = np.matmul(symbs, real_symb.T)\n",
        "  symb_exp = np.argmax(corr)\n",
        "  bits = \"{0:b}\".format(symb_exp).zfill(bits_per_symb)\n",
        "\n",
        "  for j in range(bits_per_symb):\n",
        "    out[i+j] = bits[j]  "
      ],
      "execution_count": 177,
      "outputs": []
    },
    {
      "cell_type": "code",
      "metadata": {
        "colab": {
          "base_uri": "https://localhost:8080/"
        },
        "id": "bShD1TayqImy",
        "outputId": "8a79097a-4f24-4910-fe43-ab09547cd15c"
      },
      "source": [
        "out"
      ],
      "execution_count": 178,
      "outputs": [
        {
          "output_type": "execute_result",
          "data": {
            "text/plain": [
              "array([0, 1, 0, 1, 0, 1, 0, 0, 1, 0, 0, 1, 0, 1, 1, 1, 1, 1, 1, 1, 1, 0,\n",
              "       0, 1, 0, 1, 1, 1, 0, 0, 1, 1, 0, 1, 0, 0, 0, 0, 1, 0, 1, 1, 1, 0,\n",
              "       0, 1, 1, 0, 1, 1, 1, 0, 0, 1, 0, 0, 0, 1, 0, 1, 1, 1, 0, 1, 0, 1,\n",
              "       1, 1, 0, 1, 0, 1, 0, 1, 0, 0, 1, 0, 1, 0, 1, 1, 0, 1, 0, 1, 0, 1,\n",
              "       1, 1, 1, 1, 0, 1, 0, 0])"
            ]
          },
          "metadata": {
            "tags": []
          },
          "execution_count": 178
        }
      ]
    },
    {
      "cell_type": "code",
      "metadata": {
        "colab": {
          "base_uri": "https://localhost:8080/"
        },
        "id": "PMJMy5EjqImy",
        "outputId": "56e6ed2c-2156-43a9-da80-3fdf38add910"
      },
      "source": [
        "print(f\"MSE: {np.square(np.mean(bitstream - out))}\")"
      ],
      "execution_count": 179,
      "outputs": [
        {
          "output_type": "stream",
          "text": [
            "MSE: 0.0\n"
          ],
          "name": "stdout"
        }
      ]
    },
    {
      "cell_type": "markdown",
      "metadata": {
        "id": "ObCFs9rPljbw"
      },
      "source": [
        "## QPSK"
      ]
    },
    {
      "cell_type": "code",
      "metadata": {
        "colab": {
          "base_uri": "https://localhost:8080/"
        },
        "id": "NMKrpBXeljbx",
        "outputId": "dcd52f2b-1719-4fd3-d97b-0be2960b98c8"
      },
      "source": [
        "num_symbs = 4\n",
        "bits_per_symb = np.int32(np.ceil(np.log2(num_symbs)))\n",
        "\n",
        "symb_time = bits_per_symb/transmission_rate \n",
        "print(f\"Time per Symbol: {symb_time}s\")\n",
        "\n",
        "samples_per_symb = np.int32(np.round(symb_time*f_s))\n",
        "print(f\"Number of samples per symbol: {samples_per_symb}\")\n",
        "\n",
        "psk_out = np.zeros(int(samples_per_symb * len(bitstream)/bits_per_symb))\n",
        "\n",
        "psk_theta = [2*np.pi*(m/num_symbs) for m in range(num_symbs)]\n",
        "print(psk_theta)"
      ],
      "execution_count": 180,
      "outputs": [
        {
          "output_type": "stream",
          "text": [
            "Time per Symbol: 4e-07s\n",
            "Number of samples per symbol: 200\n",
            "[0.0, 1.5707963267948966, 3.141592653589793, 4.71238898038469]\n"
          ],
          "name": "stdout"
        }
      ]
    },
    {
      "cell_type": "code",
      "metadata": {
        "id": "-anOytIYljbx"
      },
      "source": [
        "for i in range(0, len(bitstream), bits_per_symb):\n",
        "  \n",
        "  m = 0\n",
        "  for j in range(bits_per_symb):\n",
        "    m = 2*m + bitstream[i + j]\n",
        "  \n",
        "  for j in range(samples_per_symb):\n",
        "    index = int((i/bits_per_symb) * samples_per_symb + j)\n",
        "    t = float(index * (1/f_s))\n",
        "    psk_out[index] = np.cos(2*(np.pi)*f_c*t + psk_theta[m])"
      ],
      "execution_count": 181,
      "outputs": []
    },
    {
      "cell_type": "code",
      "metadata": {
        "colab": {
          "base_uri": "https://localhost:8080/",
          "height": 496
        },
        "id": "iyZWDmvyljby",
        "outputId": "31132cc4-d4b7-4bf6-c38a-03ab11dd876a"
      },
      "source": [
        "t = np.arange(0, len(psk_out) * (1/f_s) , (1/f_s))\n",
        "\n",
        "plt.figure(figsize=(15,8))\n",
        "plt.scatter(t, psk_out)\n",
        "plt.show()"
      ],
      "execution_count": 182,
      "outputs": [
        {
          "output_type": "display_data",
          "data": {
            "image/png": "[encoded data removed]",
            "text/plain": [
              "<Figure size 1080x576 with 1 Axes>"
            ]
          },
          "metadata": {
            "tags": [],
            "needs_background": "light"
          }
        }
      ]
    },
    {
      "cell_type": "code",
      "metadata": {
        "id": "rLiPGOdcljby"
      },
      "source": [
        "out = np.zeros_like(bitstream)"
      ],
      "execution_count": 183,
      "outputs": []
    },
    {
      "cell_type": "code",
      "metadata": {
        "id": "K_wkkJjJljby"
      },
      "source": [
        "for i in range(0, len(bitstream), bits_per_symb):\n",
        "\n",
        "  real_symb = psk_out[int(samples_per_symb * (i/bits_per_symb)) : int(samples_per_symb * ((i/bits_per_symb)+1))]\n",
        "  \n",
        "\n",
        "  symbs = np.zeros((num_symbs, samples_per_symb))\n",
        "  t = np.arange(int(samples_per_symb * (i/bits_per_symb)), int(samples_per_symb * ((i/bits_per_symb)+1)), 1) * (1/f_s)\n",
        "  for k in range(num_symbs):\n",
        "    symbs[k,:] =  np.cos(2 * np.pi * f_c * t + psk_theta[k])\n",
        "  \n",
        "  corr = np.matmul(symbs, real_symb.T)\n",
        "  symb_exp = np.argmax(corr)\n",
        "  bits = \"{0:b}\".format(symb_exp).zfill(bits_per_symb)\n",
        "\n",
        "  for j in range(bits_per_symb):\n",
        "    out[i+j] = bits[j]  "
      ],
      "execution_count": 184,
      "outputs": []
    },
    {
      "cell_type": "code",
      "metadata": {
        "colab": {
          "base_uri": "https://localhost:8080/"
        },
        "id": "71TlXRXPljbz",
        "outputId": "95fac0d1-e520-4bc7-dc3d-bdd6a39cf973"
      },
      "source": [
        "out"
      ],
      "execution_count": 185,
      "outputs": [
        {
          "output_type": "execute_result",
          "data": {
            "text/plain": [
              "array([0, 1, 0, 1, 0, 1, 0, 0, 1, 0, 0, 1, 0, 1, 1, 1, 1, 1, 1, 1, 1, 0,\n",
              "       0, 1, 0, 1, 1, 1, 0, 0, 1, 1, 0, 1, 0, 0, 0, 0, 1, 0, 1, 1, 1, 0,\n",
              "       0, 1, 1, 0, 1, 1, 1, 0, 0, 1, 0, 0, 0, 1, 0, 1, 1, 1, 0, 1, 0, 1,\n",
              "       1, 1, 0, 1, 0, 1, 0, 1, 0, 0, 1, 0, 1, 0, 1, 1, 0, 1, 0, 1, 0, 1,\n",
              "       1, 1, 1, 1, 0, 1, 0, 0])"
            ]
          },
          "metadata": {
            "tags": []
          },
          "execution_count": 185
        }
      ]
    },
    {
      "cell_type": "code",
      "metadata": {
        "colab": {
          "base_uri": "https://localhost:8080/"
        },
        "id": "xfUcDN2Vljbz",
        "outputId": "aa1deaec-290f-447b-e579-b1f18b2b7148"
      },
      "source": [
        "print(f\"MSE: {np.square(np.mean(bitstream - out))}\")"
      ],
      "execution_count": 186,
      "outputs": [
        {
          "output_type": "stream",
          "text": [
            "MSE: 0.0\n"
          ],
          "name": "stdout"
        }
      ]
    },
    {
      "cell_type": "markdown",
      "metadata": {
        "id": "SXaX4bVdlwVp"
      },
      "source": [
        "## 8-PSK"
      ]
    },
    {
      "cell_type": "code",
      "metadata": {
        "colab": {
          "base_uri": "https://localhost:8080/"
        },
        "id": "3ZZ8YNLBqTKM",
        "outputId": "566547a4-caaf-4eb9-922b-54a7a9e13e2e"
      },
      "source": [
        "num_symbs = 8\n",
        "bits_per_symb = np.int32(np.ceil(np.log2(num_symbs)))\n",
        "\n",
        "symb_time = bits_per_symb/transmission_rate \n",
        "print(f\"Time per Symbol: {symb_time}s\")\n",
        "\n",
        "samples_per_symb = np.int32(np.round(symb_time*f_s))\n",
        "print(f\"Number of samples per symbol: {samples_per_symb}\")\n",
        "\n",
        "psk_out = np.zeros(int(samples_per_symb * len(bitstream)/bits_per_symb))\n",
        "\n",
        "psk_theta = [2*np.pi*(m/num_symbs) for m in range(num_symbs)]\n",
        "print(psk_theta)"
      ],
      "execution_count": 187,
      "outputs": [
        {
          "output_type": "stream",
          "text": [
            "Time per Symbol: 6e-07s\n",
            "Number of samples per symbol: 300\n",
            "[0.0, 0.7853981633974483, 1.5707963267948966, 2.356194490192345, 3.141592653589793, 3.9269908169872414, 4.71238898038469, 5.497787143782138]\n"
          ],
          "name": "stdout"
        }
      ]
    },
    {
      "cell_type": "code",
      "metadata": {
        "id": "aMWIGd29qTKN"
      },
      "source": [
        "for i in range(0, len(bitstream), bits_per_symb):\n",
        "  \n",
        "  m = 0\n",
        "  for j in range(bits_per_symb):\n",
        "    m = 2*m + bitstream[i + j]\n",
        "  \n",
        "  for j in range(samples_per_symb):\n",
        "    index = int((i/bits_per_symb) * samples_per_symb + j)\n",
        "    t = float(index * (1/f_s))\n",
        "    psk_out[index] = np.cos(2*(np.pi)*f_c*t + psk_theta[m])"
      ],
      "execution_count": 188,
      "outputs": []
    },
    {
      "cell_type": "code",
      "metadata": {
        "colab": {
          "base_uri": "https://localhost:8080/",
          "height": 496
        },
        "id": "gTU0g5GnqTKN",
        "outputId": "ffebc08b-f8e6-46f4-e7aa-c29eaa116d2f"
      },
      "source": [
        "t = np.arange(0, len(psk_out) * (1/f_s) , (1/f_s))\n",
        "\n",
        "plt.figure(figsize=(15,8))\n",
        "plt.scatter(t, psk_out)\n",
        "plt.show()"
      ],
      "execution_count": 189,
      "outputs": [
        {
          "output_type": "display_data",
          "data": {
            "image/png": "[encoded data removed]",
            "text/plain": [
              "<Figure size 1080x576 with 1 Axes>"
            ]
          },
          "metadata": {
            "tags": [],
            "needs_background": "light"
          }
        }
      ]
    },
    {
      "cell_type": "code",
      "metadata": {
        "id": "E66lCroDqTKN"
      },
      "source": [
        "out = np.zeros_like(bitstream)"
      ],
      "execution_count": 190,
      "outputs": []
    },
    {
      "cell_type": "code",
      "metadata": {
        "id": "R9wY3YcEqTKO"
      },
      "source": [
        "for i in range(0, len(bitstream), bits_per_symb):\n",
        "\n",
        "  real_symb = psk_out[int(samples_per_symb * (i/bits_per_symb)) : int(samples_per_symb * ((i/bits_per_symb)+1))]\n",
        "  \n",
        "\n",
        "  symbs = np.zeros((num_symbs, samples_per_symb))\n",
        "  t = np.arange(int(samples_per_symb * (i/bits_per_symb)), int(samples_per_symb * ((i/bits_per_symb)+1)), 1) * (1/f_s)\n",
        "  for k in range(num_symbs):\n",
        "    symbs[k,:] =  np.cos(2 * np.pi * f_c * t + psk_theta[k])\n",
        "  \n",
        "  corr = np.matmul(symbs, real_symb.T)\n",
        "  symb_exp = np.argmax(corr)\n",
        "  bits = \"{0:b}\".format(symb_exp).zfill(bits_per_symb)\n",
        "\n",
        "  for j in range(bits_per_symb):\n",
        "    out[i+j] = bits[j]  "
      ],
      "execution_count": 191,
      "outputs": []
    },
    {
      "cell_type": "code",
      "metadata": {
        "colab": {
          "base_uri": "https://localhost:8080/"
        },
        "id": "YpOXYDK6qTKO",
        "outputId": "b95c5d48-1dbd-4d11-ac32-73b0555797d4"
      },
      "source": [
        "out"
      ],
      "execution_count": 192,
      "outputs": [
        {
          "output_type": "execute_result",
          "data": {
            "text/plain": [
              "array([0, 1, 0, 1, 0, 1, 0, 0, 1, 0, 0, 1, 0, 1, 1, 1, 1, 1, 1, 1, 1, 0,\n",
              "       0, 1, 0, 1, 1, 1, 0, 0, 1, 1, 0, 1, 0, 0, 0, 0, 1, 0, 1, 1, 1, 0,\n",
              "       0, 1, 1, 0, 1, 1, 1, 0, 0, 1, 0, 0, 0, 1, 0, 1, 1, 1, 0, 1, 0, 1,\n",
              "       1, 1, 0, 1, 0, 1, 0, 1, 0, 0, 1, 0, 1, 0, 1, 1, 0, 1, 0, 1, 0, 1,\n",
              "       1, 1, 1, 1, 0, 1, 0, 0])"
            ]
          },
          "metadata": {
            "tags": []
          },
          "execution_count": 192
        }
      ]
    },
    {
      "cell_type": "code",
      "metadata": {
        "colab": {
          "base_uri": "https://localhost:8080/"
        },
        "id": "9m_MCc41qTKO",
        "outputId": "a8c45fec-ed94-404f-93a5-ccbe17c4ea11"
      },
      "source": [
        "print(f\"MSE: {np.square(np.mean(bitstream - out))}\")"
      ],
      "execution_count": 193,
      "outputs": [
        {
          "output_type": "stream",
          "text": [
            "MSE: 0.0\n"
          ],
          "name": "stdout"
        }
      ]
    },
    {
      "cell_type": "markdown",
      "metadata": {
        "id": "R4O6gOkrqTKO"
      },
      "source": [
        "# 16 QAM"
      ]
    },
    {
      "cell_type": "code",
      "metadata": {
        "colab": {
          "base_uri": "https://localhost:8080/"
        },
        "id": "dO04IGrArHUU",
        "outputId": "cc0d1840-5a9f-4e90-958d-ba286e1e18fe"
      },
      "source": [
        "num_symbs = 16\n",
        "bits_per_symb = np.int32(np.ceil(np.log2(num_symbs)))\n",
        "\n",
        "symb_time = bits_per_symb/transmission_rate \n",
        "print(f\"Time per Symbol: {symb_time}s\")\n",
        "\n",
        "samples_per_symb = np.int32(np.round(symb_time*f_s))\n",
        "print(f\"Number of samples per symbol: {samples_per_symb}\")\n",
        "\n",
        "# for square QAM\n",
        "x_pts = np.int32(np.round(np.sqrt(num_symbs)))\n",
        "y_pts = np.int32(np.round(np.sqrt(num_symbs)))\n",
        "\n",
        "Ami = np.asarray( [2*i - (x_pts - 1) for i in range((x_pts))] )\n",
        "Amq = np.asarray( [2*i - (y_pts - 1) for i in range(y_pts)] )\n",
        "\n",
        "print(f\"Ami: {Ami}\")\n",
        "print(f\"Amq: {Amq}\")\n",
        "\n",
        "qam_out = np.zeros((np.int32(samples_per_symb * (len(bitstream)/bits_per_symb)),))"
      ],
      "execution_count": 194,
      "outputs": [
        {
          "output_type": "stream",
          "text": [
            "Time per Symbol: 8e-07s\n",
            "Number of samples per symbol: 400\n",
            "Ami: [-3 -1  1  3]\n",
            "Amq: [-3 -1  1  3]\n"
          ],
          "name": "stdout"
        }
      ]
    },
    {
      "cell_type": "code",
      "metadata": {
        "id": "99SR-4fOrHUV"
      },
      "source": [
        "for i in range(0, len(bitstream), bits_per_symb):\n",
        "  \n",
        "  m = 0\n",
        "  for j in range(bits_per_symb):\n",
        "    m = 2*m + bitstream[i + j]\n",
        "  \n",
        "  for j in range(samples_per_symb):\n",
        "    index = int((i/bits_per_symb) * samples_per_symb + j)\n",
        "    t = float(index * (1/f_s))\n",
        "    angle = 2*np.pi*f_c*t\n",
        "\n",
        "    m_real = m // x_pts\n",
        "    m_img = m % y_pts\n",
        "\n",
        "    A = np.complex(Ami[m_real], Amq[m_img])\n",
        "\n",
        "    qam_out[index] = (A * np.exp(np.complex(0,angle))).real"
      ],
      "execution_count": 195,
      "outputs": []
    },
    {
      "cell_type": "code",
      "metadata": {
        "colab": {
          "base_uri": "https://localhost:8080/",
          "height": 496
        },
        "id": "YDFqFG50rHUV",
        "outputId": "c8916d1e-a020-445e-ad44-0d97d22c94e6"
      },
      "source": [
        "t = np.arange(0, len(qam_out) * (1/f_s) , (1/f_s))\n",
        "\n",
        "plt.figure(figsize=(15,8))\n",
        "plt.scatter(t, qam_out)\n",
        "plt.show()"
      ],
      "execution_count": 196,
      "outputs": [
        {
          "output_type": "display_data",
          "data": {
            "image/png": "[encoded data removed]",
            "text/plain": [
              "<Figure size 1080x576 with 1 Axes>"
            ]
          },
          "metadata": {
            "tags": [],
            "needs_background": "light"
          }
        }
      ]
    },
    {
      "cell_type": "code",
      "metadata": {
        "id": "MO3m56ctrHUW"
      },
      "source": [
        "out = np.zeros_like(bitstream)"
      ],
      "execution_count": 197,
      "outputs": []
    },
    {
      "cell_type": "code",
      "metadata": {
        "id": "CtwM4GWKrHUW"
      },
      "source": [
        "for i in range(0, len(bitstream), bits_per_symb):\n",
        "\n",
        "  real_symb = qam_out[int((i/bits_per_symb)*samples_per_symb):int((i/bits_per_symb)*samples_per_symb) + samples_per_symb]\n",
        "\n",
        "  symbs = np.zeros((num_symbs, samples_per_symb))\n",
        "\n",
        "  t = np.arange(samples_per_symb * i, samples_per_symb * (i+1), 1) * (1/f_s)\n",
        "\n",
        "  for j in range(num_symbs):\n",
        "    m_real = j // x_pts\n",
        "    m_img = j % y_pts\n",
        "\n",
        "    A = np.complex(Ami[m_real], Amq[m_img])\n",
        "\n",
        "    angle = 2*np.pi*f_c*t\n",
        "    symbs[j,:] = np.asarray([ (A * np.exp(np.complex(0, 2*np.pi*f_c*ti))).real for ti in t  ])\n",
        "  \n",
        "  corr = np.matmul(symbs, real_symb.T)\n",
        "  symb_exp = np.argmax(corr)\n",
        "  bits = \"{0:b}\".format(symb_exp).zfill(bits_per_symb)\n",
        "  out[i:i+bits_per_symb] = [(1 if bits[k]=='1' else 0) for k in range(bits_per_symb)]"
      ],
      "execution_count": 198,
      "outputs": []
    },
    {
      "cell_type": "code",
      "metadata": {
        "colab": {
          "base_uri": "https://localhost:8080/"
        },
        "id": "faeOGYQ6rHUW",
        "outputId": "fab800e6-fe90-4de2-b223-02b6cfdf91b2"
      },
      "source": [
        "out"
      ],
      "execution_count": 199,
      "outputs": [
        {
          "output_type": "execute_result",
          "data": {
            "text/plain": [
              "array([0, 0, 0, 0, 0, 0, 0, 0, 1, 1, 0, 0, 0, 0, 1, 1, 1, 1, 1, 1, 1, 1,\n",
              "       0, 0, 0, 0, 1, 1, 0, 0, 1, 1, 0, 0, 0, 0, 0, 0, 1, 1, 1, 1, 1, 1,\n",
              "       0, 0, 1, 1, 1, 1, 1, 1, 0, 0, 0, 0, 0, 0, 0, 0, 1, 1, 0, 0, 0, 0,\n",
              "       1, 1, 0, 0, 0, 0, 0, 0, 0, 0, 1, 1, 1, 1, 1, 1, 0, 0, 0, 0, 0, 0,\n",
              "       1, 1, 1, 1, 0, 0, 0, 0])"
            ]
          },
          "metadata": {
            "tags": []
          },
          "execution_count": 199
        }
      ]
    },
    {
      "cell_type": "code",
      "metadata": {
        "colab": {
          "base_uri": "https://localhost:8080/"
        },
        "id": "PfFtz6bIrHUX",
        "outputId": "72199af5-19f2-49d5-9da6-7da091f58086"
      },
      "source": [
        "print(f\"MSE: {np.square(np.mean(bitstream - out)): .4f}\")"
      ],
      "execution_count": 200,
      "outputs": [
        {
          "output_type": "stream",
          "text": [
            "MSE:  0.0183\n"
          ],
          "name": "stdout"
        }
      ]
    },
    {
      "cell_type": "markdown",
      "metadata": {
        "id": "XfR0BVay7uOJ"
      },
      "source": [
        "# 64 QAM"
      ]
    },
    {
      "cell_type": "code",
      "metadata": {
        "colab": {
          "base_uri": "https://localhost:8080/"
        },
        "id": "jggt3P357uOK",
        "outputId": "e3a19a18-19c9-4e35-febe-d20f032cdfef"
      },
      "source": [
        "num_symbs = 64\n",
        "bits_per_symb = np.int32(np.ceil(np.log2(num_symbs)))\n",
        "\n",
        "symb_time = bits_per_symb/transmission_rate \n",
        "print(f\"Time per Symbol: {symb_time}s\")\n",
        "\n",
        "samples_per_symb = np.int32(np.round(symb_time*f_s))\n",
        "print(f\"Number of samples per symbol: {samples_per_symb}\")\n",
        "\n",
        "# for square QAM\n",
        "x_pts = np.int32(np.round(np.sqrt(num_symbs)))\n",
        "y_pts = np.int32(np.round(np.sqrt(num_symbs)))\n",
        "\n",
        "Ami = np.asarray( [2*i - (x_pts - 1) for i in range((x_pts))] )\n",
        "Amq = np.asarray( [2*i - (y_pts - 1) for i in range(y_pts)] )\n",
        "\n",
        "print(f\"Ami: {Ami}\")\n",
        "print(f\"Amq: {Amq}\")\n",
        "\n",
        "qam_out = np.zeros((np.int32(samples_per_symb * (len(bitstream)/bits_per_symb)),))"
      ],
      "execution_count": 201,
      "outputs": [
        {
          "output_type": "stream",
          "text": [
            "Time per Symbol: 1.2e-06s\n",
            "Number of samples per symbol: 600\n",
            "Ami: [-7 -5 -3 -1  1  3  5  7]\n",
            "Amq: [-7 -5 -3 -1  1  3  5  7]\n"
          ],
          "name": "stdout"
        }
      ]
    },
    {
      "cell_type": "code",
      "metadata": {
        "id": "Qydj4rhk7uOL"
      },
      "source": [
        "for i in range(0, len(bitstream), bits_per_symb):\n",
        "  \n",
        "  m = 0\n",
        "  for j in range(bits_per_symb):\n",
        "    m = 2*m + bitstream[i + j]\n",
        "  \n",
        "  for j in range(samples_per_symb):\n",
        "    index = int((i/bits_per_symb) * samples_per_symb + j)\n",
        "    t = float(index * (1/f_s))\n",
        "    angle = 2*np.pi*f_c*t\n",
        "\n",
        "    m_real = m // x_pts\n",
        "    m_img = m % y_pts\n",
        "\n",
        "    A = np.complex(Ami[m_real], Amq[m_img])\n",
        "\n",
        "    qam_out[index] = (A * np.exp(np.complex(0,angle))).real"
      ],
      "execution_count": 202,
      "outputs": []
    },
    {
      "cell_type": "code",
      "metadata": {
        "colab": {
          "base_uri": "https://localhost:8080/",
          "height": 496
        },
        "id": "Rj-M1qc07uOM",
        "outputId": "70792042-e364-45f0-ce67-772ba716ed38"
      },
      "source": [
        "t = np.arange(0, len(qam_out) * (1/f_s) , (1/f_s))\n",
        "\n",
        "plt.figure(figsize=(15,8))\n",
        "plt.scatter(t, qam_out)\n",
        "plt.show()"
      ],
      "execution_count": 203,
      "outputs": [
        {
          "output_type": "display_data",
          "data": {
            "image/png": "[encoded data removed]",
            "text/plain": [
              "<Figure size 1080x576 with 1 Axes>"
            ]
          },
          "metadata": {
            "tags": [],
            "needs_background": "light"
          }
        }
      ]
    },
    {
      "cell_type": "code",
      "metadata": {
        "id": "qlR4qDcd7uON"
      },
      "source": [
        "out = np.zeros_like(bitstream)"
      ],
      "execution_count": 204,
      "outputs": []
    },
    {
      "cell_type": "code",
      "metadata": {
        "id": "9JniqZU57uON"
      },
      "source": [
        "for i in range(0, len(bitstream), bits_per_symb):\n",
        "\n",
        "  real_symb = qam_out[int((i/bits_per_symb)*samples_per_symb):int((i/bits_per_symb)*samples_per_symb) + samples_per_symb]\n",
        "\n",
        "  symbs = np.zeros((num_symbs, samples_per_symb))\n",
        "\n",
        "  t = np.arange(samples_per_symb * i, samples_per_symb * (i+1), 1) * (1/f_s)\n",
        "\n",
        "  for j in range(num_symbs):\n",
        "    m_real = j // x_pts\n",
        "    m_img = j % y_pts\n",
        "\n",
        "    A = np.complex(Ami[m_real], Amq[m_img])\n",
        "\n",
        "    angle = 2*np.pi*f_c*t\n",
        "    symbs[j,:] = np.asarray([ (A * np.exp(np.complex(0, 2*np.pi*f_c*ti))).real for ti in t  ])\n",
        "  \n",
        "  corr = np.matmul(symbs, real_symb.T)\n",
        "  symb_exp = np.argmax(corr)\n",
        "  bits = \"{0:b}\".format(symb_exp).zfill(bits_per_symb)\n",
        "  out[i:i+bits_per_symb] = [(1 if bits[k]=='1' else 0) for k in range(bits_per_symb)]"
      ],
      "execution_count": 205,
      "outputs": []
    },
    {
      "cell_type": "code",
      "metadata": {
        "colab": {
          "base_uri": "https://localhost:8080/"
        },
        "id": "fotIbF4K7uOO",
        "outputId": "bbabd183-7709-407c-c6bd-c01beb44b6d6"
      },
      "source": [
        "out"
      ],
      "execution_count": 206,
      "outputs": [
        {
          "output_type": "execute_result",
          "data": {
            "text/plain": [
              "array([0, 0, 0, 1, 1, 1, 0, 0, 0, 0, 0, 0, 0, 0, 0, 1, 1, 1, 1, 1, 1, 0,\n",
              "       0, 0, 0, 0, 0, 1, 1, 1, 1, 1, 1, 1, 1, 1, 0, 0, 0, 0, 0, 0, 1, 1,\n",
              "       1, 1, 1, 1, 1, 1, 1, 0, 0, 0, 0, 0, 0, 1, 1, 1, 1, 1, 1, 1, 1, 1,\n",
              "       1, 1, 1, 1, 1, 1, 0, 0, 0, 0, 0, 0, 1, 1, 1, 1, 1, 1, 0, 0, 0, 1,\n",
              "       1, 1, 1, 1, 1, 1, 1, 1])"
            ]
          },
          "metadata": {
            "tags": []
          },
          "execution_count": 206
        }
      ]
    },
    {
      "cell_type": "code",
      "metadata": {
        "colab": {
          "base_uri": "https://localhost:8080/"
        },
        "id": "lQWXn4VZ7uOP",
        "outputId": "4d46d5d5-5915-4b1d-fa2b-bc7756334c77"
      },
      "source": [
        "print(f\"MSE: {np.square(np.mean(bitstream - out)): .4f}\")"
      ],
      "execution_count": 207,
      "outputs": [
        {
          "output_type": "stream",
          "text": [
            "MSE:  0.0017\n"
          ],
          "name": "stdout"
        }
      ]
    }
  ]
}